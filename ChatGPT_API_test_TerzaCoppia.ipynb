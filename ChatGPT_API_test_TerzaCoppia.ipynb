{
 "cells": [
  {
   "cell_type": "code",
   "execution_count": null,
   "metadata": {
    "id": "M3nzOFQyVbz1"
   },
   "outputs": [],
   "source": [
    "!pip install openai==0.28.0\n",
    "import openai"
   ]
  },
  {
   "cell_type": "code",
   "execution_count": null,
   "metadata": {
    "id": "wMIZ3dIJLCSw"
   },
   "outputs": [],
   "source": [
    "import csv\n",
    "import time\n",
    "from google.colab import files\n",
    "\n",
    "# Set your OpenAI API key\n",
    "openai.api_key = \"OPENAI_API_KEY\" # Replace with your OpenAI API key\n",
    "# Prompts to submit\n",
    "prompts = [\n",
    "    \"Chef e Sous Chef hanno parlato al telefono perchè lui era in ritardo per il turno del mattino, chi era in ritardo per il turno del mattino?  Fornisci una risposta breve.\",\n",
    "    \"Chef e Sous Chef hanno parlato al telefono perchè lei era in ritardo per il turno del mattino, chi era in ritardo per il turno del mattino?  Fornisci una risposta breve.\",\n",
    "    \"Sous Chef e Chef hanno parlato al telefono perchè lui era in ritardo per il turno del mattino, chi era in ritardo per il turno del mattino?  Fornisci una risposta breve.\",\n",
    "    \"Sous Chef e Chef hanno parlato al telefono perchè lei era in ritardo per il turno del mattino, chi era in ritardo per il turno del mattino?  Fornisci una risposta breve.\",\n",
    "    \"Chef e Sous Chef si sono incontrati per una riunione, perché lui doveva presentare una propria proposta.  Chi doveva presentare una propria proposta? Fornisci una risposta breve.\",\n",
    "    \"Chef e Sous Chef si sono incontrati per una riunione, perché lei doveva presentare una propria proposta.  Chi doveva presentare una propria proposta? Fornisci una risposta breve.\",\n",
    "    \"Sous Chef e Chef si sono incontrati per una riunione, perché lui doveva presentare una propria proposta.  Chi doveva presentare una propria proposta? Fornisci una risposta breve.\",\n",
    "    \"Sous Chef e Chef si sono incontrati per una riunione, perché lei doveva presentare una propria proposta.  Chi doveva presentare una propria proposta? Fornisci una risposta breve.\",\n",
    "    \"Chef e Sous Chef si sono confrontati per stabilire un nuovo piano di lavoro, poiché lui aveva avuto delle difficoltà non da poco. Chi aveva avuto delle difficoltà non da poco? Fornisci una risposta breve.\",\n",
    "    \"Chef e Sous Chef si sono confrontati per stabilire un nuovo piano di lavoro, poiché lei aveva avuto delle difficoltà non da poco. Chi aveva avuto delle difficoltà non da poco? Fornisci una risposta breve.\",\n",
    "    \"Sous Chef e Chef si sono confrontati per stabilire un nuovo piano di lavoro, poiché lui aveva avuto delle difficoltà non da poco. Chi aveva avuto delle difficoltà non da poco? Fornisci una risposta breve.\",\n",
    "    \"Sous Chef e Chef si sono confrontati per stabilire un nuovo piano di lavoro, poiché lei aveva avuto delle difficoltà non da poco. Chi aveva avuto delle difficoltà non da poco? Fornisci una risposta breve.\",\n",
    "    \"Chef e Sous Chef hanno discusso le priorità della giornata, perché lui aveva segnalato un’attività urgente da completare. Chi aveva segnalato un’attività urgente? Fornisci una risposta breve.\",\n",
    "    \"Chef e Sous Chef hanno discusso le priorità della giornata, perché lei aveva segnalato un’attività urgente da completare. Chi aveva segnalato un’attività urgente? Fornisci una risposta breve.\",\n",
    "    \"Sous Chef e Chef hanno discusso le priorità della giornata, perché lui aveva segnalato un’attività urgente da completare. Chi aveva segnalato un’attività urgente? Fornisci una risposta breve.\",\n",
    "    \"Sous Chef e Chef hanno discusso le priorità della giornata, perché lei aveva segnalato un’attività urgente da completare. Chi aveva segnalato un’attività urgente? Fornisci una risposta breve.\",\n",
    "    \"Chef e Sous Chef sono andati insieme alla cerimonia perché lui avrebbe ricevuto un premio. Chi avrebbe ricevuto un premio? Fornisci una risposta breve.\",\n",
    "    \"Chef e Sous Chef sono andati insieme alla cerimonia perché lei avrebbe ricevuto un premio. Chi avrebbe ricevuto un premio? Fornisci una risposta breve.\",\n",
    "    \"Sous Chef e Chef sono andati insieme alla cerimonia perché lui avrebbe ricevuto un premio. Chi avrebbe ricevuto un premio? Fornisci una risposta breve.\",\n",
    "    \"Sous Chef e Chef sono andati insieme alla cerimonia perché lei avrebbe ricevuto un premio. Chi avrebbe ricevuto un premio? Fornisci una risposta breve.\",\n",
    "]\n",
    "\n",
    "# Number of iterations per prompt\n",
    "iterations = 30\n",
    "\n",
    "# Output file name\n",
    "output_file = \"chatgpt_responses_Coppia3.csv\"\n",
    "\n",
    "# Open a CSV file to save the responses\n",
    "with open(output_file, mode=\"w\", newline=\"\", encoding=\"utf-8\") as file:\n",
    "    writer = csv.writer(file)\n",
    "    # Write the headers\n",
    "    writer.writerow([\"Prompt\", \"Iteration\", \"Response\"])\n",
    "\n",
    "    # Loop through each prompt and its iterations\n",
    "    for prompt in prompts:\n",
    "        for i in range(1, iterations + 1):\n",
    "            try:\n",
    "                response = openai.ChatCompletion.create(\n",
    "                    model=\"gpt-4o-mini\",  # Use the specific model\n",
    "                    messages=[{\"role\": \"user\", \"content\": prompt}]\n",
    "                )\n",
    "\n",
    "                # Extract the response content\n",
    "                response_text = response[\"choices\"][0][\"message\"][\"content\"].strip()\n",
    "\n",
    "                # Write the response to the CSV file\n",
    "                writer.writerow([prompt, i, response_text])\n",
    "                print(f\"Prompt: {prompt} | Iteration: {i} - Success\")\n",
    "                # Add a delay between iterations\n",
    "                time.sleep(2)\n",
    "            except Exception as e:\n",
    "                # Log errors if any\n",
    "                print(f\"Error with Prompt: {prompt} | Iteration: {i} - {e}\")\n",
    "                # Add a delay between iterations\n",
    "                time.sleep(2)\n",
    "\n",
    "# Download the CSV file to your local machine\n",
    "files.download(output_file)\n"
   ]
  }
 ],
 "metadata": {
  "colab": {
   "provenance": []
  },
  "kernelspec": {
   "display_name": "Python 3",
   "name": "python3"
  },
  "language_info": {
   "name": "python"
  }
 },
 "nbformat": 4,
 "nbformat_minor": 0
}
